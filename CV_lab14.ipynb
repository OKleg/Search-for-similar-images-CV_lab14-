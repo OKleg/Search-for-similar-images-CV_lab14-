{
  "cells": [
    {
      "cell_type": "code",
      "execution_count": null,
      "metadata": {
        "id": "4n66P7A3OJa3"
      },
      "outputs": [],
      "source": [
        "import cv2\n",
        "import numpy as np\n",
        "import os\n",
        "import pandas as pd\n",
        "import pickle\n",
        "from sklearn.neighbors import NearestNeighbors\n",
        "import ast\n",
        "import torch\n",
        "import clip\n",
        "from PIL import Image"
      ]
    },
    {
      "cell_type": "markdown",
      "metadata": {
        "id": "IxMJ-pFuOpKe"
      },
      "source": [
        "###### Выгрузка гугл диска в GoogleColab (1 раз)"
      ]
    },
    {
      "cell_type": "code",
      "execution_count": null,
      "metadata": {
        "id": "p3sPiiRJOnAp"
      },
      "outputs": [],
      "source": [
        "from google.colab import drive\n",
        "drive.mount('/content/drive/')"
      ]
    },
    {
      "cell_type": "markdown",
      "metadata": {
        "id": "YvVMsNOGOtLW"
      },
      "source": [
        "# *CLIP*\n",
        "###### Данная модель заменяет собой реализацию кодирования изображения в вектор из предыдущей лабораторной работы (а именно связку SIFT + K-Means + Histogram).\n",
        "\n"
      ]
    },
    {
      "cell_type": "code",
      "execution_count": null,
      "metadata": {
        "id": "OCE415AzOsOL"
      },
      "outputs": [],
      "source": [
        "torch.cuda.is_available()"
      ]
    },
    {
      "cell_type": "code",
      "execution_count": null,
      "metadata": {
        "id": "sG9rOKYyO1ZS"
      },
      "outputs": [],
      "source": [
        "# Load the model\n",
        "device = \"cuda\" if torch.cuda.is_available() else \"cpu\"\n",
        "model, transform = clip.load('ViT-B/32', device=device)"
      ]
    },
    {
      "cell_type": "code",
      "execution_count": null,
      "metadata": {
        "id": "rZscYzGEO2Av"
      },
      "outputs": [],
      "source": [
        "def image_to_vector(image, model):\n",
        "    # Convert image\n",
        "    image = Image.fromarray(image)\n",
        "    image = transform(image).unsqueeze(0).to(device)\n",
        "\n",
        "    # Encode using CLIP\n",
        "    with torch.no_grad():\n",
        "        image_features = model.encode_image(image)\n",
        "\n",
        "    # Normalize\n",
        "    image_features = image_features / image_features.norm(dim=-1, keepdim=True)\n",
        "\n",
        "    return image_features.cpu().numpy()"
      ]
    },
    {
      "cell_type": "markdown",
      "metadata": {},
      "source": [
        "# Step 5\n",
        "#### Create indexed DB"
      ]
    },
    {
      "cell_type": "code",
      "execution_count": null,
      "metadata": {},
      "outputs": [],
      "source": [
        "# Create pd.DataFrame for all images in path\n",
        "def create_database(path, model):\n",
        "    data = []\n",
        "    for index, filename in enumerate(os.listdir(path)):\n",
        "        img = cv2.imread(os.path.join(path, filename))\n",
        "        if img is not None:\n",
        "            vector = image_to_vector(img, model)\n",
        "            if vector is not None:\n",
        "                data.append({'index': index, 'path': os.path.join(path, filename), 'vector': vector.tolist()[0]})\n",
        "    df = pd.DataFrame(data)\n",
        "    return df"
      ]
    },
    {
      "cell_type": "markdown",
      "metadata": {},
      "source": [
        "# Step 6\n",
        "#### NearestNeighbors model"
      ]
    },
    {
      "cell_type": "code",
      "execution_count": null,
      "metadata": {},
      "outputs": [],
      "source": [
        "# Import image db\n",
        "df = pd.read_csv('./webapp/data/database.csv')\n",
        "\n",
        "#NearestNeighbors model\n",
        "NN_model  = NearestNeighbors(metric='cosine').fit(np.array(df['vector'].apply(ast.literal_eval).tolist()))\n",
        "\n",
        "#Save\n",
        "with open('./webapp/models/NN_model.pkl', 'wb') as f:\n",
        "    pickle.dump(NN_model, f)\n",
        "\n",
        "#Load NN model\n",
        "with open('./webapp/models/NN_model.pkl', 'rb') as f:\n",
        "    NN_model = pickle.load(f)"
      ]
    },
    {
      "cell_type": "markdown",
      "metadata": {},
      "source": [
        "### search image "
      ]
    },
    {
      "cell_type": "code",
      "execution_count": null,
      "metadata": {},
      "outputs": [],
      "source": [
        "def search_image(image, model, NN_model,df, k):\n",
        "    # Convert image to vector\n",
        "    vector = image_to_vector(image, model)\n",
        "\n",
        "    # Find the k-nearest vectors\n",
        "    distances, indices = NN_model.kneighbors(vector, n_neighbors=k)\n",
        "\n",
        "    # Get the paths of the k-nearest images\n",
        "    paths = df.loc[indices[0], 'path']\n",
        "\n",
        "    return paths.tolist()"
      ]
    },
    {
      "cell_type": "code",
      "execution_count": null,
      "metadata": {},
      "outputs": [],
      "source": [
        "import matplotlib.pyplot as plt\n",
        "import matplotlib.image as mpimg\n",
        "\n",
        "image = cv2.imread('./webapp/data/coco128_extend1024/images/000000000061.jpg')\n",
        "k  = 4\n",
        "# Display the input image\n",
        "plt.figure(figsize=(20, 10))\n",
        "plt.subplot(1, k+1, 1)\n",
        "plt.imshow(image)\n",
        "plt.title('Input Image')\n",
        "\n",
        "# Search for similar images\n",
        "similar_images = search_image(image, model, NN_model, df, k)\n",
        "\n",
        "# Display the similar images\n",
        "for i, path in enumerate(similar_images, 2):\n",
        "    img = mpimg.imread(path)\n",
        "    plt.subplot(1, k+1, i)\n",
        "    plt.imshow(img)\n",
        "    plt.title(f'Similar Image {i-1}')\n",
        "\n",
        "plt.show()"
      ]
    }
  ],
  "metadata": {
    "colab": {
      "provenance": []
    },
    "kernelspec": {
      "display_name": "Python 3",
      "name": "python3"
    },
    "language_info": {
      "name": "python"
    }
  },
  "nbformat": 4,
  "nbformat_minor": 0
}
