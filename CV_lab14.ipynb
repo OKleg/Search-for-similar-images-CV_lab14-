{
  "nbformat": 4,
  "nbformat_minor": 0,
  "metadata": {
    "colab": {
      "provenance": []
    },
    "kernelspec": {
      "name": "python3",
      "display_name": "Python 3"
    },
    "language_info": {
      "name": "python"
    }
  },
  "cells": [
    {
      "cell_type": "code",
      "execution_count": null,
      "metadata": {
        "id": "4n66P7A3OJa3"
      },
      "outputs": [],
      "source": [
        "import cv2\n",
        "import numpy as np\n",
        "import os\n",
        "import pandas as pd\n",
        "import pickle\n",
        "from sklearn.neighbors import NearestNeighbors\n",
        "import ast\n",
        "import torch\n",
        "import clip\n",
        "from PIL import Image"
      ]
    },
    {
      "cell_type": "markdown",
      "source": [
        "###### Выгрузка гугл диска в GoogleColab (1 раз)"
      ],
      "metadata": {
        "id": "IxMJ-pFuOpKe"
      }
    },
    {
      "cell_type": "code",
      "source": [
        "from google.colab import drive\n",
        "drive.mount('/content/drive/')"
      ],
      "metadata": {
        "id": "p3sPiiRJOnAp"
      },
      "execution_count": null,
      "outputs": []
    },
    {
      "cell_type": "markdown",
      "source": [
        "# *CLIP*\n",
        "###### Данная модель заменяет собой реализацию кодирования изображения в вектор из предыдущей лабораторной работы (а именно связку SIFT + K-Means + Histogram).\n",
        "\n"
      ],
      "metadata": {
        "id": "YvVMsNOGOtLW"
      }
    },
    {
      "cell_type": "code",
      "source": [
        "torch.cuda.is_available()"
      ],
      "metadata": {
        "id": "OCE415AzOsOL"
      },
      "execution_count": null,
      "outputs": []
    },
    {
      "cell_type": "code",
      "source": [
        "# Load the model\n",
        "device = \"cuda\" if torch.cuda.is_available() else \"cpu\"\n",
        "model, transform = clip.load('ViT-B/32', device=device)"
      ],
      "metadata": {
        "id": "sG9rOKYyO1ZS"
      },
      "execution_count": null,
      "outputs": []
    },
    {
      "cell_type": "code",
      "source": [
        "def image_to_vector(image, model):\n",
        "    # Convert image\n",
        "    image = Image.fromarray(image)\n",
        "    image = transform(image).unsqueeze(0).to(device)\n",
        "\n",
        "    # Encode using CLIP\n",
        "    with torch.no_grad():\n",
        "        image_features = model.encode_image(image)\n",
        "\n",
        "    # Normalize\n",
        "    image_features = image_features / image_features.norm(dim=-1, keepdim=True)\n",
        "\n",
        "    return image_features.cpu().numpy()"
      ],
      "metadata": {
        "id": "rZscYzGEO2Av"
      },
      "execution_count": null,
      "outputs": []
    }
  ]
}